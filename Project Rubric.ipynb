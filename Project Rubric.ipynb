{
 "cells": [
  {
   "cell_type": "markdown",
   "metadata": {},
   "source": [
    "# Data Science Project\n",
    "## Objective\n",
    "\n",
    "Provide a data-driven solution to a problem that excites you using the tools discussed (or related to) in this course.\n",
    "\n",
    "## Tasks\n",
    "For your project, you should:\n",
    "- Pick a topic/issue/question/problem that excites you\n",
    "- Select or create a dataset to answer the question\n",
    "- Familiarize yourself with that data, if necessary:\n",
    "    - data munging\n",
    "    - feature engineering\n",
    "- Train/Fit a model: NumPy, Pandas, Matplotlib, SciKit, OpenCV, Keras, TensorFlow (tf), catboost, DeepLearning4j, etc.\n",
    "- Analyze results\n",
    "\n",
    "## Group project\n",
    "\n",
    "### Delivery\n",
    "- group presentation on the last two lectures (12/2, 12/5)\n",
    "    - all group member must join in the presentation\n",
    "    - Slides is required\n",
    "    - time limit: 10 $\\pm$ 2 minutes\n",
    "    - The order of presentations will be generated randomly on 12/20\n",
    "- Deadline to submit the Slides (pdf version): Thursday midnight (12/1) on BridgeSpace\n",
    "- Grading: 30% from Instructor + 70% from other groups\n",
    "    - the highest and lowest score from other groups will be dropped\n",
    "    - All groups must attend the two day presentation\n",
    "\n",
    "\n",
    "### Rubric \n",
    "|Category | Explanation| %|\n",
    "|--|--|-|\n",
    "|Introduction|Why was the project undertaken? What was the research question, the tested hypothesis or the purpose of the research?|10|\n",
    "|Selection of Data|What is the source of the dataset? Characteristics of data? Any munging, imputation, or feature engineering?|20|\n",
    "|Methods|What materials/tools were used in answering the research question?|20|\n",
    "|Results|What answer was found to the research question; what did the study find? Any visualizations?|20|\n",
    "|Discussion|What might the answer imply and why does it matter? How does it fit in with what other researchers have found? What are the perspectives for future research? |20|\n",
    "|Summary|Most important findings.|10|\n",
    "\n",
    "Rubric based on the IMRAD:https://en.wikipedia.org/wiki/IMRAD\n",
    "\n",
    "\n",
    "\n",
    "\n",
    "## individual project\n",
    "### Delivery\n",
    "\n",
    "- Published code, pictures and report to a repository with readme [reference](https://docs.github.com/en/repositories/managing-your-repositorys-settings-and-features/customizing-your-repository/about-readmes)\n",
    "    - if use private Github repo, must add 'veagy' by the following steps in [link](https://docs.github.com/en/account-and-profile/setting-up-and-managing-your-personal-account-on-github/managing-access-to-your-personal-repositories/inviting-collaborators-to-a-personal-repository)\n",
    "- Deadline of the publishing: Tuesday, December 6th, 2022; 11:59 PM \n",
    "- Write your name above the part of report that are your individual work (at least one visulization and two methods/results if use same dataset with the group project)\n",
    "\n",
    "### Rubric\n",
    "\n",
    "|Category | Explanation| %|\n",
    "|--|--|-|\n",
    "|Introduction|Why was the project undertaken? What was the research question, the tested hypothesis or the purpose of the research?|10|\n",
    "|Selection of Data|What is the source of the dataset? Characteristics of data? Any munging, imputation, or feature engineering?|20|\n",
    "|Methods|What materials/tools were used in answering the research question?|20|\n",
    "|Results|What answer was found to the research question; what did the study find? Any visualizations?|20|\n",
    "|Discussion|What might the answer imply and why does it matter? How does it fit in with what other researchers have found? What are the perspectives for future research? |15|\n",
    "|Coding|ipynb file with clear comments and datafile.|10|\n",
    "|Reference|Reference of all citations. |5|\n",
    "\n",
    "Rubric based on the IMRAD:https://en.wikipedia.org/wiki/IMRAD\n",
    "\n",
    "### Example of report\n",
    "https://github.com/memoatwit/dsexample\n",
    "\n",
    "\n"
   ]
  },
  {
   "cell_type": "markdown",
   "metadata": {},
   "source": [
    "## Tips\n",
    "\n",
    "- Clear and specific questions\n",
    "- Remember to provide suggestions \n"
   ]
  },
  {
   "cell_type": "code",
   "execution_count": null,
   "metadata": {},
   "outputs": [],
   "source": []
  }
 ],
 "metadata": {
  "kernelspec": {
   "display_name": "Python 3",
   "language": "python",
   "name": "python3"
  },
  "language_info": {
   "codemirror_mode": {
    "name": "ipython",
    "version": 3
   },
   "file_extension": ".py",
   "mimetype": "text/x-python",
   "name": "python",
   "nbconvert_exporter": "python",
   "pygments_lexer": "ipython3",
   "version": "3.6.10"
  }
 },
 "nbformat": 4,
 "nbformat_minor": 2
}
